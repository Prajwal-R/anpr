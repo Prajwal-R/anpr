{
  "nbformat": 4,
  "nbformat_minor": 0,
  "metadata": {
    "colab": {
      "name": "Copy of plateRecognition.ipynb",
      "provenance": [],
      "collapsed_sections": []
    },
    "kernelspec": {
      "name": "python3",
      "display_name": "Python 3"
    }
  },
  "cells": [
    {
      "cell_type": "code",
      "metadata": {
        "colab": {
          "base_uri": "https://localhost:8080/"
        },
        "id": "NW4amt4-8yl5",
        "outputId": "35b2f769-0382-4484-f6f9-e6fc0d98b874"
      },
      "source": [
        "from google.colab import drive\n",
        "drive.mount('/content/gdrive')"
      ],
      "execution_count": 86,
      "outputs": [
        {
          "output_type": "stream",
          "text": [
            "Drive already mounted at /content/gdrive; to attempt to forcibly remount, call drive.mount(\"/content/gdrive\", force_remount=True).\n"
          ],
          "name": "stdout"
        }
      ]
    },
    {
      "cell_type": "code",
      "metadata": {
        "colab": {
          "base_uri": "https://localhost:8080/"
        },
        "id": "-84WFYSc4s6q",
        "outputId": "e9dd5110-eaaa-4430-d2fd-7f16c13f5e5b"
      },
      "source": [
        "!pip install opencv-python\n",
        "!pip install opencv-contrib-python\n",
        "!pip install matplotlib\n",
        "!pip install pytesseract\n",
        "!sudo apt install tesseract-ocr"
      ],
      "execution_count": 87,
      "outputs": [
        {
          "output_type": "stream",
          "text": [
            "Requirement already satisfied: opencv-python in /usr/local/lib/python3.6/dist-packages (4.1.2.30)\n",
            "Requirement already satisfied: numpy>=1.11.3 in /usr/local/lib/python3.6/dist-packages (from opencv-python) (1.18.5)\n",
            "Requirement already satisfied: opencv-contrib-python in /usr/local/lib/python3.6/dist-packages (4.1.2.30)\n",
            "Requirement already satisfied: numpy>=1.11.3 in /usr/local/lib/python3.6/dist-packages (from opencv-contrib-python) (1.18.5)\n",
            "Requirement already satisfied: matplotlib in /usr/local/lib/python3.6/dist-packages (3.2.2)\n",
            "Requirement already satisfied: pyparsing!=2.0.4,!=2.1.2,!=2.1.6,>=2.0.1 in /usr/local/lib/python3.6/dist-packages (from matplotlib) (2.4.7)\n",
            "Requirement already satisfied: python-dateutil>=2.1 in /usr/local/lib/python3.6/dist-packages (from matplotlib) (2.8.1)\n",
            "Requirement already satisfied: kiwisolver>=1.0.1 in /usr/local/lib/python3.6/dist-packages (from matplotlib) (1.3.1)\n",
            "Requirement already satisfied: numpy>=1.11 in /usr/local/lib/python3.6/dist-packages (from matplotlib) (1.18.5)\n",
            "Requirement already satisfied: cycler>=0.10 in /usr/local/lib/python3.6/dist-packages (from matplotlib) (0.10.0)\n",
            "Requirement already satisfied: six>=1.5 in /usr/local/lib/python3.6/dist-packages (from python-dateutil>=2.1->matplotlib) (1.15.0)\n",
            "Requirement already satisfied: pytesseract in /usr/local/lib/python3.6/dist-packages (0.3.6)\n",
            "Requirement already satisfied: Pillow in /usr/local/lib/python3.6/dist-packages (from pytesseract) (7.0.0)\n",
            "Reading package lists... Done\n",
            "Building dependency tree       \n",
            "Reading state information... Done\n",
            "tesseract-ocr is already the newest version (4.00~git2288-10f4998a-2).\n",
            "0 upgraded, 0 newly installed, 0 to remove and 14 not upgraded.\n"
          ],
          "name": "stdout"
        }
      ]
    },
    {
      "cell_type": "code",
      "metadata": {
        "id": "a_nToafZ8riM"
      },
      "source": [
        "import cv2\n",
        "import random\n",
        "import os\n",
        "import glob \n",
        "import imutils\n",
        "import pytesseract\n",
        "import numpy as np\n",
        "import matplotlib.pyplot as plt\n",
        "%matplotlib inline\n",
        "pytesseract.pytesseract.tesseract_cmd = (r'/usr/bin/tesseract')"
      ],
      "execution_count": 88,
      "outputs": []
    },
    {
      "cell_type": "code",
      "metadata": {
        "colab": {
          "base_uri": "https://localhost:8080/"
        },
        "id": "CYB3r5TX81Ed",
        "outputId": "c00043b3-4f19-49ed-bfd7-2f665e1ed640"
      },
      "source": [
        "print(cv2.__version__)"
      ],
      "execution_count": 89,
      "outputs": [
        {
          "output_type": "stream",
          "text": [
            "4.1.2\n"
          ],
          "name": "stdout"
        }
      ]
    },
    {
      "cell_type": "code",
      "metadata": {
        "colab": {
          "base_uri": "https://localhost:8080/"
        },
        "id": "0aMxYj86-BdA",
        "outputId": "a5cf8f6b-41f9-4774-d111-89debace0094"
      },
      "source": [
        "ls -l '/content/gdrive/My Drive/Colab Notebooks/working_sample/data/images'"
      ],
      "execution_count": 90,
      "outputs": [
        {
          "output_type": "stream",
          "text": [
            "total 17927\n",
            "-rw------- 1 root root   57064 Nov 28 06:10 3JOH22A.jpg\n",
            "-rw------- 1 root root  468225 Dec  6 07:15 ALR486.png\n",
            "-rw------- 1 root root   73112 Nov 28 06:10 BG224NZ.jpg\n",
            "-rw------- 1 root root  581872 Dec  6 07:15 CZ17KOD.png\n",
            "-rw------- 1 root root  266315 May 31  2020 DAN54P.png\n",
            "-rw------- 1 root root  499510 Dec  6 07:23 DZI7YXR.png\n",
            "-rw------- 1 root root  575888 May 31  2020 GBI8TCE.png\n",
            "-rw------- 1 root root  501305 May 31  2020 GJ03JL0126.png\n",
            "-rw------- 1 root root 1734822 Nov 28 06:10 GT7303V.jpg\n",
            "-rw------- 1 root root  599460 May 31  2020 HR26BR9044.png\n",
            "-rw------- 1 root root  629500 Dec  6 07:15 HR26BU0380.png\n",
            "-rw------- 1 root root  562498 May 31  2020 HR26CU6799.png\n",
            "-rw------- 1 root root 4291904 Nov 29 12:16 KA19MD7463.jpg\n",
            "-rw------- 1 root root  181641 May 31  2020 KL01CA2555.png\n",
            "-rw------- 1 root root  145785 May 31  2020 KL01CC50.png\n",
            "-rw------- 1 root root 4598134 Nov 30 10:14 KL14U5815.jpg\n",
            "-rw------- 1 root root  251866 May 31  2020 MH20EE7598.png\n",
            "-rw------- 1 root root  747278 May 31  2020 MK3532.png\n",
            "-rw------- 1 root root   56009 Nov 28 06:10 PGMN112.jpg\n",
            "-rw------- 1 root root  225326 May 31  2020 PUI8BES.png\n",
            "-rw------- 1 root root  482232 May 31  2020 TN99F2378.png\n",
            "-rw------- 1 root root  669037 May 31  2020 W0R516K.png\n",
            "-rw------- 1 root root   71214 Nov 28 06:10 YJ65YKN.jpg\n",
            "-rw------- 1 root root   81038 Nov 28 06:10 YJ65YOM.jpg\n"
          ],
          "name": "stdout"
        }
      ]
    },
    {
      "cell_type": "code",
      "metadata": {
        "id": "Xebc-cLj9dLY",
        "colab": {
          "base_uri": "https://localhost:8080/"
        },
        "outputId": "f88d335b-37b1-4f79-dbd6-35fc42a33357"
      },
      "source": [
        "path_for_license_plates = \"/content/gdrive/My Drive/Colab Notebooks/working_sample/data/images/*.*\"\n",
        "list_license_plates = [] \n",
        "predicted_license_plates = [] \n",
        "plateList = []\n",
        "\n",
        "for path_to_license_plate in glob.glob(path_for_license_plates, recursive = True): \n",
        "  license_plate_file = path_to_license_plate.split(\"/\")[-1] \n",
        "  license_plate, _ = os.path.splitext(license_plate_file) \n",
        "  print(\"Recognising:\",license_plate)\n",
        "  \n",
        "  list_license_plates.append(license_plate) \n",
        "\n",
        "  img = cv2.imread(path_to_license_plate)\n",
        "\n",
        "  gray = cv2.cvtColor(img, cv2.COLOR_BGR2GRAY)\n",
        "  blur = cv2.bilateralFilter(gray, 11, 90, 90)\n",
        "  edges = cv2.Canny(blur, 30, 200)\n",
        "  cnts, new = cv2.findContours(edges.copy(), cv2.RETR_LIST, cv2.CHAIN_APPROX_SIMPLE)\n",
        "  cnts = sorted(cnts, key = cv2.contourArea, reverse = True)\n",
        "  NumberPlateCount = None\n",
        "  image_copy = img.copy()\n",
        "  _ = cv2.drawContours(image_copy, cnts, -1, (255,0,255), 2)\n",
        "  cnts = sorted(cnts, key=cv2.contourArea, reverse=True)[:30]\n",
        "  image_copy = img.copy()\n",
        "  _ = cv2.drawContours(image_copy, cnts, -1, (255,0,255), 2)\n",
        "\n",
        "  plate = None\n",
        "  for c in cnts:\n",
        "      perimeter = cv2.arcLength(c, True)\n",
        "      edges_count = cv2.approxPolyDP(c, 0.02 * perimeter, True)\n",
        "      if len(edges_count) == 4:\n",
        "        x,y,w,h = cv2.boundingRect(c)\n",
        "        plate = img[y:y+h, x:x+w]\n",
        "        predicted_result = pytesseract.image_to_string(plate, lang ='eng', config='--psm 10 --oem 3 -c tessedit_char_whitelist=ABCDEFGHIJKLMNOPQRSTUVWXYZ0123456789')\n",
        "        filter_predicted_result = \"\".join(predicted_result.split())\n",
        "        predicted_license_plates.append(filter_predicted_result) \n",
        "        break\n",
        "      "
      ],
      "execution_count": 91,
      "outputs": [
        {
          "output_type": "stream",
          "text": [
            "Recognising: W0R516K\n",
            "Recognising: MH20EE7598\n",
            "Recognising: MK3532\n",
            "Recognising: KL01CA2555\n",
            "Recognising: HR26CU6799\n",
            "Recognising: TN99F2378\n",
            "Recognising: ALR486\n",
            "Recognising: CZ17KOD\n",
            "Recognising: HR26BU0380\n",
            "Recognising: DZI7YXR\n",
            "Recognising: BG224NZ\n",
            "Recognising: YJ65YOM\n",
            "Recognising: YJ65YKN\n",
            "Recognising: 3JOH22A\n",
            "Recognising: PGMN112\n",
            "Recognising: GT7303V\n",
            "Recognising: KA19MD7463\n",
            "Recognising: KL14U5815\n",
            "Recognising: GJ03JL0126\n",
            "Recognising: GBI8TCE\n",
            "Recognising: DAN54P\n",
            "Recognising: HR26BR9044\n",
            "Recognising: PUI8BES\n",
            "Recognising: KL01CC50\n"
          ],
          "name": "stdout"
        }
      ]
    },
    {
      "cell_type": "code",
      "metadata": {
        "colab": {
          "base_uri": "https://localhost:8080/"
        },
        "id": "i2lnLYNOKDej",
        "outputId": "d5ee7cf8-baee-49e0-dd24-b13e924f54c9"
      },
      "source": [
        "print(list_license_plates)\n",
        "print(len(list_license_plates))"
      ],
      "execution_count": 92,
      "outputs": [
        {
          "output_type": "stream",
          "text": [
            "['W0R516K', 'MH20EE7598', 'MK3532', 'KL01CA2555', 'HR26CU6799', 'TN99F2378', 'ALR486', 'CZ17KOD', 'HR26BU0380', 'DZI7YXR', 'BG224NZ', 'YJ65YOM', 'YJ65YKN', '3JOH22A', 'PGMN112', 'GT7303V', 'KA19MD7463', 'KL14U5815', 'GJ03JL0126', 'GBI8TCE', 'DAN54P', 'HR26BR9044', 'PUI8BES', 'KL01CC50']\n",
            "24\n"
          ],
          "name": "stdout"
        }
      ]
    },
    {
      "cell_type": "code",
      "metadata": {
        "colab": {
          "base_uri": "https://localhost:8080/"
        },
        "id": "rwq4BS64KPlz",
        "outputId": "f63a89ad-3405-4162-9783-6aa190706d37"
      },
      "source": [
        "print(predicted_license_plates)\n",
        "print(len(predicted_license_plates))"
      ],
      "execution_count": 93,
      "outputs": [
        {
          "output_type": "stream",
          "text": [
            "['[iorsick', 'MH20EE7598', 'MK-35-32', 'KEG410A2555', 'HR26CU6799', 'TNSSF2378|', 'ALR486|', 'CZI7KOD', 'HR26BU380.', 'DZI7YXR', 'BG#224:NZ', 'YJ65YOM', 'r7J65YK', '3JOH22A', \"PGeMN112'\", '6T7303V', 'KA19.MD7463', 'L1405815', 'GJ03JL0126', 'GBI8TCE', 'DAN54P', \"'HR26BR9044|\", '|PUIGBES', 'KL01CC59']\n",
            "24\n"
          ],
          "name": "stdout"
        }
      ]
    },
    {
      "cell_type": "code",
      "metadata": {
        "colab": {
          "base_uri": "https://localhost:8080/"
        },
        "id": "RqXQygil9d75",
        "outputId": "145da96c-9c9f-4504-afd5-495a5fd3f918"
      },
      "source": [
        "print(\"Sl.No\", \"\\t\",\"Actual License Plate\", \"\\t\", \"Predicted License Plate\", \"\\t\", \"Accuracy\") \n",
        "print(\"------\", \"\\t\",\"--------------------\", \"\\t\", \"-----------------------\", \"\\t\", \"--------\") \n",
        "\n",
        "accuracyList = []\n",
        "def calculate_predicted_accuracy(actual_list, predicted_list): \n",
        "  count = 0\n",
        "  punctuations = '''!|()-[]{};:'\"\\,<>. /?@#$%^&*_~''' \n",
        "  for actual_plate, predicted_plate in zip(actual_list, predicted_list):\n",
        "    for character in predicted_plate:\n",
        "      if character in punctuations:\n",
        "        predicted_plate = predicted_plate.replace(character, \"\")\n",
        "    count = count + 1 \n",
        "    accuracy = \"0.0 %\"\n",
        "    num_matches = 0\n",
        "    actual_plate = actual_plate.strip()\n",
        "    predicted_plate = predicted_plate.strip()\n",
        "    if actual_plate == predicted_plate: \n",
        "      accuracy = \"100 %\"\n",
        "    else: \n",
        "      if len(actual_plate) == len(predicted_plate): \n",
        "        for a, p in zip(actual_plate, predicted_plate): \n",
        "          if a == p: \n",
        "            num_matches += 1\n",
        "          accuracy = str(round((num_matches / len(actual_plate)), 2) * 100) \n",
        "          accuracy += \"%\"\n",
        "    for i in accuracy:\n",
        "      if i ==  '%':\n",
        "        temp = accuracy.replace(i, \"\")\n",
        "    accuracyList.append(float(temp))\n",
        "    print(\" \",str(count).zfill(2),\"\\t\\t\", actual_plate, \"\\t\\t\", predicted_plate, \"\\t\\t \", accuracy) \n",
        "\n",
        "\n",
        "calculate_predicted_accuracy(list_license_plates, predicted_license_plates)\n",
        "print(\"\\nFinal Accuracy:\",sum(accuracyList)/len(accuracyList))\n",
        "accuracyList.clear()"
      ],
      "execution_count": 98,
      "outputs": [
        {
          "output_type": "stream",
          "text": [
            " Sl.No \t Actual License Plate \t Predicted License Plate \t Accuracy\n",
            "------ \t -------------------- \t ----------------------- \t --------\n",
            "  01 \t\t W0R516K \t\t iorsick \t\t  0.0%\n",
            "  02 \t\t MH20EE7598 \t\t MH20EE7598 \t\t  100 %\n",
            "  03 \t\t MK3532 \t\t MK3532 \t\t  100 %\n",
            "  04 \t\t KL01CA2555 \t\t KEG410A2555 \t\t  0.0 %\n",
            "  05 \t\t HR26CU6799 \t\t HR26CU6799 \t\t  100 %\n",
            "  06 \t\t TN99F2378 \t\t TNSSF2378 \t\t  78.0%\n",
            "  07 \t\t ALR486 \t\t ALR486 \t\t  100 %\n",
            "  08 \t\t CZ17KOD \t\t CZI7KOD \t\t  86.0%\n",
            "  09 \t\t HR26BU0380 \t\t HR26BU380 \t\t  0.0 %\n",
            "  10 \t\t DZI7YXR \t\t DZI7YXR \t\t  100 %\n",
            "  11 \t\t BG224NZ \t\t BG224NZ \t\t  100 %\n",
            "  12 \t\t YJ65YOM \t\t YJ65YOM \t\t  100 %\n",
            "  13 \t\t YJ65YKN \t\t r7J65YK \t\t  0.0%\n",
            "  14 \t\t 3JOH22A \t\t 3JOH22A \t\t  100 %\n",
            "  15 \t\t PGMN112 \t\t PGeMN112 \t\t  0.0 %\n",
            "  16 \t\t GT7303V \t\t 6T7303V \t\t  86.0%\n",
            "  17 \t\t KA19MD7463 \t\t KA19MD7463 \t\t  100 %\n",
            "  18 \t\t KL14U5815 \t\t L1405815 \t\t  0.0 %\n",
            "  19 \t\t GJ03JL0126 \t\t GJ03JL0126 \t\t  100 %\n",
            "  20 \t\t GBI8TCE \t\t GBI8TCE \t\t  100 %\n",
            "  21 \t\t DAN54P \t\t DAN54P \t\t  100 %\n",
            "  22 \t\t HR26BR9044 \t\t HR26BR9044 \t\t  100 %\n",
            "  23 \t\t PUI8BES \t\t PUIGBES \t\t  86.0%\n",
            "  24 \t\t KL01CC50 \t\t KL01CC59 \t\t  88.0%\n",
            "\n",
            "Final Accuracy: 71.83333333333333\n"
          ],
          "name": "stdout"
        }
      ]
    },
    {
      "cell_type": "code",
      "metadata": {
        "id": "TaKVeJxbR3Le"
      },
      "source": [
        ""
      ],
      "execution_count": 94,
      "outputs": []
    }
  ]
}